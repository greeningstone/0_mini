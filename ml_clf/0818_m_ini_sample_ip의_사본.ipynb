{
  "nbformat": 4,
  "nbformat_minor": 0,
  "metadata": {
    "colab": {
      "name": "0818_m_ini_sample.ip의 사본",
      "provenance": [],
      "authorship_tag": "ABX9TyN+0gXOfX+mQw68I9T1gnNM",
      "include_colab_link": true
    },
    "kernelspec": {
      "name": "python3",
      "display_name": "Python 3"
    }
  },
  "cells": [
    {
      "cell_type": "markdown",
      "metadata": {
        "id": "view-in-github",
        "colab_type": "text"
      },
      "source": [
        "<a href=\"https://colab.research.google.com/github/greeningstone/0_mini/blob/master/ml_clf/0818_m_ini_sample_ip%EC%9D%98_%EC%82%AC%EB%B3%B8.ipynb\" target=\"_parent\"><img src=\"https://colab.research.google.com/assets/colab-badge.svg\" alt=\"Open In Colab\"/></a>"
      ]
    },
    {
      "cell_type": "code",
      "metadata": {
        "id": "ViT2IqAA-y75",
        "colab_type": "code",
        "colab": {
          "base_uri": "https://localhost:8080/",
          "height": 34
        },
        "outputId": "924aaff8-fd4d-4abf-cbca-8f1f2327acf6"
      },
      "source": [
        "import sklearn\n",
        "print(sklearn.__version__)"
      ],
      "execution_count": null,
      "outputs": [
        {
          "output_type": "stream",
          "text": [
            "0.22.2.post1\n"
          ],
          "name": "stdout"
        }
      ]
    },
    {
      "cell_type": "markdown",
      "metadata": {
        "id": "pyeEb7KnA3js",
        "colab_type": "text"
      },
      "source": [
        "## 1. 개요\n",
        "- IRIS 붓꽃 분류 모형을 만든다."
      ]
    },
    {
      "cell_type": "markdown",
      "metadata": {
        "id": "aq782tvWA_5m",
        "colab_type": "text"
      },
      "source": [
        "### (1) 패키지를 불러오기\n",
        "- sklearn 패키지를 불러온다.\n"
      ]
    },
    {
      "cell_type": "markdown",
      "metadata": {
        "id": "ef2g1KQJBO02",
        "colab_type": "text"
      },
      "source": [
        "### (2) 데이터 불러오기\n",
        "- sklearn  패키지 내장데이터 있음"
      ]
    },
    {
      "cell_type": "code",
      "metadata": {
        "id": "-hZO-z8XBlOk",
        "colab_type": "code",
        "colab": {
          "base_uri": "https://localhost:8080/",
          "height": 222
        },
        "outputId": "d10de842-6943-49e8-b758-b41eee9ae1ef"
      },
      "source": [
        "from sklearn.datasets import load_iris\n",
        "\n",
        "iris = load_iris() # Bunch  형태의 데이터셋으로 구성되어 있음\n",
        "\n",
        "\n",
        "# 독립변수 구성된 데이터\n",
        "iris_data=iris.data\n",
        "\n",
        "# 종속변수\n",
        "iris_label =iris.target\n",
        "print('iris target 값:',iris_label[[0,50,100]])\n",
        "print('iris target 명:',iris_target_name)"
      ],
      "execution_count": null,
      "outputs": [
        {
          "output_type": "stream",
          "text": [
            "iris target 값: [0 1 2]\n"
          ],
          "name": "stdout"
        },
        {
          "output_type": "error",
          "ename": "NameError",
          "evalue": "ignored",
          "traceback": [
            "\u001b[0;31m---------------------------------------------------------------------------\u001b[0m",
            "\u001b[0;31mNameError\u001b[0m                                 Traceback (most recent call last)",
            "\u001b[0;32m<ipython-input-5-2e2f59c74d90>\u001b[0m in \u001b[0;36m<module>\u001b[0;34m()\u001b[0m\n\u001b[1;32m     10\u001b[0m \u001b[0miris_label\u001b[0m \u001b[0;34m=\u001b[0m\u001b[0miris\u001b[0m\u001b[0;34m.\u001b[0m\u001b[0mtarget\u001b[0m\u001b[0;34m\u001b[0m\u001b[0;34m\u001b[0m\u001b[0m\n\u001b[1;32m     11\u001b[0m \u001b[0mprint\u001b[0m\u001b[0;34m(\u001b[0m\u001b[0;34m'iris target 값:'\u001b[0m\u001b[0;34m,\u001b[0m\u001b[0miris_label\u001b[0m\u001b[0;34m[\u001b[0m\u001b[0;34m[\u001b[0m\u001b[0;36m0\u001b[0m\u001b[0;34m,\u001b[0m\u001b[0;36m50\u001b[0m\u001b[0;34m,\u001b[0m\u001b[0;36m100\u001b[0m\u001b[0;34m]\u001b[0m\u001b[0;34m]\u001b[0m\u001b[0;34m)\u001b[0m\u001b[0;34m\u001b[0m\u001b[0;34m\u001b[0m\u001b[0m\n\u001b[0;32m---> 12\u001b[0;31m \u001b[0mprint\u001b[0m\u001b[0;34m(\u001b[0m\u001b[0;34m'iris target 명:'\u001b[0m\u001b[0;34m,\u001b[0m\u001b[0miris_target_name\u001b[0m\u001b[0;34m)\u001b[0m\u001b[0;34m\u001b[0m\u001b[0;34m\u001b[0m\u001b[0m\n\u001b[0m",
            "\u001b[0;31mNameError\u001b[0m: name 'iris_target_name' is not defined"
          ]
        }
      ]
    },
    {
      "cell_type": "code",
      "metadata": {
        "id": "3ynZD8WrA11J",
        "colab_type": "code",
        "colab": {}
      },
      "source": [
        ""
      ],
      "execution_count": null,
      "outputs": []
    },
    {
      "cell_type": "code",
      "metadata": {
        "id": "hlSncJFzIunH",
        "colab_type": "code",
        "colab": {}
      },
      "source": [
        ""
      ],
      "execution_count": null,
      "outputs": []
    },
    {
      "cell_type": "markdown",
      "metadata": {
        "id": "3tatz0M1EeBo",
        "colab_type": "text"
      },
      "source": [
        "### 데이터 전처리\n",
        "- 상황: *NumPy* 형태, 리스트\n",
        "- 방법: pandas를 활용해서, 데이터 프레임 만들기\n",
        "\n",
        "https://stackoverflow.com/questions/38105539/how-to-convert-a-scikit-learn-dataset-to-a-pandas-dataset"
      ]
    },
    {
      "cell_type": "code",
      "metadata": {
        "id": "e9rE04sFFtPB",
        "colab_type": "code",
        "colab": {}
      },
      "source": [
        "import pandas as pd \n",
        "from sklearn import datasets \n",
        "\n",
        "def sklearn_to_df(sklearn_dataset):\n",
        "    df = pd.DataFrame(sklearn_dataset.data, columns=sklearn_dataset.feature_names)\n",
        "    df['target'] = pd.Series(sklearn_dataset.target)\n",
        "    return df\n",
        "\n",
        "df_boston = sklearn_to_df(datasets.load_boston())"
      ],
      "execution_count": null,
      "outputs": []
    },
    {
      "cell_type": "code",
      "metadata": {
        "id": "5RWHu5y5HS9V",
        "colab_type": "code",
        "colab": {}
      },
      "source": [
        "import numpy as np\n",
        "import pandas as pd\n",
        "from sklearn.datasets import load_iris\n",
        "\n",
        "# save load_iris() sklearn dataset to iris\n",
        "# if you'd like to check dataset type use: type(load_iris())\n",
        "# if you'd like to view list of attributes use: dir(load_iris())\n",
        "iris = load_iris()\n",
        "\n",
        "# np.c_ is the numpy concatenate function\n",
        "# which is used to concat iris['data'] and iris['target'] arrays \n",
        "# for pandas column argument: concat iris['feature_names'] list\n",
        "# and string list (in this case one string); you can make this anything you'd like..  \n",
        "# the original dataset would probably call this ['Species']\n",
        "data1 = pd.DataFrame(data= np.c_[iris['data'], iris['target']],\n",
        "                     columns= iris['feature_names'] + ['target'])"
      ],
      "execution_count": null,
      "outputs": []
    }
  ]
}